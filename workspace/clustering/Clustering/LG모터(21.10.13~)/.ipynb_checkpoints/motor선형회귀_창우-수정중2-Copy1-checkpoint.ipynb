{
 "cells": [
  {
   "cell_type": "markdown",
   "metadata": {},
   "source": [
    "# step.0"
   ]
  },
  {
   "cell_type": "code",
   "execution_count": 1,
   "metadata": {
    "scrolled": false
   },
   "outputs": [],
   "source": [
    "# ㅡㅡㅡㅡㅡㅡㅡㅡㅡㅡㅡㅡㅡㅡㅡㅡㅡㅡㅡㅡㅡㅡㅡㅡㅡㅡㅡㅡ결과기록ㅡㅡㅡㅡㅡㅡㅡㅡㅡㅡㅡㅡㅡㅡㅡㅡㅡㅡㅡㅡㅡㅡㅡㅡㅡㅡㅡㅡㅡㅡㅡ\n",
    "# cluster number = 3일때 (0.60 0.79 0.83)  평균 0.74\n",
    "# cluster number = 4일때 (0.79 0.43 0.83 0.83) 평균 0.72\n",
    "# cluster number = 5일때 (0.43\n",
    "# cluster number = 6일때 (0.92 0.79 0.58 0.83 0.54 0.98) 평균 0.7733\n",
    "# cluster number = 7일때 (0.79 0.58 0.92 0.83 0.98 0.54 0.89(cv=4)) 평균 0.7899\n",
    "# cluster number = 8일때 (0.98 0.67 0.79 0.83 0.92 0.97 0.54 0.89(cv=4)) 평균 0.8237\n",
    "# cluster number = 9일때 (0.67 0.98 0.92 0.83 0.79 / (cv=4) 0.89 0.54 0.99 0.97  평균 0.8422\n",
    "# cluster number = 10일때 (0.96 0.97 0.97 0.79 0.54 0.83 0.99 / (cv=4) 0.89 0.67 0.98) 평균 0.859\n",
    "\n",
    "# cluster number = 4일때(degree=4) (0.05)\n",
    "# cluster number = 5일때(degree=4) (0.45)\n",
    "# cluster number = 6일때(degree=4) (0.99 0.76 0.58 0.97 0.89 0.99 )\n",
    "# cluster number = 7일때(degree=4) (0.76 0.58 0.99 0.97 0.99 0.89 0.95)\n",
    "# cluster number = 8일때(degree=4) (0.99 0.65 0.76 0.97 0.99 0.98 0.89 0.95)\n",
    "# cluster number = 9일때(degree=4) (0.65 0.99 0.99 0.97 0.76\n",
    "# cluster number = 10일때(degree=4) (0.98 0.97 0.96 0.76 0.92 0.94 0.99 0.99 0.65 0.99) \n",
    "\n",
    "# 모터끼리 묶음\n",
    "# 3 0.73 0.91 0.98\n",
    "# 4 0.95 0.96 0.96 0.49\n",
    "# 5 0.48\n",
    "# 6 0.98 0.98 0.96 0.54 0.96 0.98\n",
    "# 7 \n",
    "# 8 0.95 0.56 0.99 -3\n",
    "\n",
    "# gridsearch 사용 \n",
    "# 3 : 0.81 0.96 0.66\n",
    "# 6 : 0.97 0.95 0.88 0.97 0.47 0.98\n",
    "# 6 : 0.61 0.96 0.93 0.91 0.95 0.95\n",
    "# ㅡㅡㅡㅡㅡㅡㅡㅡㅡㅡㅡㅡㅡㅡㅡㅡㅡㅡㅡㅡㅡㅡㅡㅡㅡㅡㅡㅡㅡㅡㅡㅡㅡㅡㅡㅡㅡㅡㅡㅡㅡㅡㅡㅡㅡㅡㅡㅡㅡㅡㅡㅡㅡㅡㅡㅡㅡㅡㅡㅡㅡㅡ"
   ]
  },
  {
   "cell_type": "code",
   "execution_count": 2,
   "metadata": {},
   "outputs": [
    {
     "name": "stdout",
     "output_type": "stream",
     "text": [
      "   max_Speed(RPM)  min_Speed(RPM)  max_Torque(kg.cm)  min_Torque(kg.cm)  \\\n",
      "0          1600.0           600.0               54.5               29.9   \n",
      "1          1600.0           600.0               41.4               24.7   \n",
      "2          1600.0           600.0               52.7               25.8   \n",
      "3          1600.0           600.0               41.4               24.7   \n",
      "4          1600.0           800.0               53.6               21.8   \n",
      "\n",
      "   Coil Dia  Coil R  Coil Turn  Core Thick  Core Dia  Poles   motor_name  \n",
      "0      0.85    7.60        180        60.0       130      6  EAU37067120  \n",
      "1      0.90    5.25        138        60.0       130      6  EAU37067103  \n",
      "2      0.85    7.60        180        60.0       130      6  EAU37067118  \n",
      "3      0.90    5.25        138        60.0       130      6  EAU37067108  \n",
      "4      0.90    5.48        144        60.0       130      6  EAU37067114  \n",
      "           P/No  Watt  Speed(RPM)  Torque(kg.cm)  Coil Dia  Coil R  Coil Turn  \\\n",
      "0   EAU37067120   500      1600.0           29.9      0.85    7.60        180   \n",
      "1   EAU37067120   500      1400.0           35.3      0.85    7.60        180   \n",
      "2   EAU37067120   500      1300.0           38.8      0.85    7.60        180   \n",
      "3   EAU37067120   500      1200.0           42.9      0.85    7.60        180   \n",
      "4   EAU37067120   500      1100.0           46.9      0.85    7.60        180   \n",
      "5   EAU37067120   500      1000.0           48.0      0.85    7.60        180   \n",
      "6   EAU37067120   500       800.0           50.0      0.85    7.60        180   \n",
      "7   EAU37067120   500       700.0           53.2      0.85    7.60        180   \n",
      "8   EAU37067120   500       600.0           54.5      0.85    7.60        180   \n",
      "9   EAU37067103   350      1600.0           24.7      0.90    5.25        138   \n",
      "10  EAU37067103   350      1400.0           29.2      0.90    5.25        138   \n",
      "11  EAU37067103   350      1300.0           31.9      0.90    5.25        138   \n",
      "12  EAU37067103   350      1200.0           34.7      0.90    5.25        138   \n",
      "13  EAU37067103   350      1100.0           35.7      0.90    5.25        138   \n",
      "14  EAU37067103   350      1000.0           36.7      0.90    5.25        138   \n",
      "15  EAU37067103   350       900.0           38.8      0.90    5.25        138   \n",
      "16  EAU37067103   350       800.0           40.2      0.90    5.25        138   \n",
      "17  EAU37067103   350       700.0           41.0      0.90    5.25        138   \n",
      "18  EAU37067103   350       600.0           41.4      0.90    5.25        138   \n",
      "19  EAU37067118   400      1600.0           25.8      0.85    7.60        180   \n",
      "20  EAU37067118   400      1400.0           30.7      0.85    7.60        180   \n",
      "21  EAU37067118   400      1300.0           33.5      0.85    7.60        180   \n",
      "22  EAU37067118   400      1200.0           37.0      0.85    7.60        180   \n",
      "23  EAU37067118   400      1100.0           41.6      0.85    7.60        180   \n",
      "24  EAU37067118   400      1000.0           44.3      0.85    7.60        180   \n",
      "25  EAU37067118   400       800.0           49.0      0.85    7.60        180   \n",
      "26  EAU37067118   400       600.0           52.7      0.85    7.60        180   \n",
      "27  EAU37067108   350      1600.0           24.7      0.90    5.25        138   \n",
      "28  EAU37067108   350      1400.0           29.2      0.90    5.25        138   \n",
      "29  EAU37067108   350      1300.0           31.9      0.90    5.25        138   \n",
      "30  EAU37067108   350      1200.0           34.7      0.90    5.25        138   \n",
      "31  EAU37067108   350      1100.0           35.7      0.90    5.25        138   \n",
      "32  EAU37067108   350      1000.0           36.7      0.90    5.25        138   \n",
      "33  EAU37067108   350       900.0           38.8      0.90    5.25        138   \n",
      "34  EAU37067108   350       800.0           40.2      0.90    5.25        138   \n",
      "35  EAU37067108   350       700.0           41.0      0.90    5.25        138   \n",
      "36  EAU37067108   350       600.0           41.4      0.90    5.25        138   \n",
      "37  EAU37067114   400      1600.0           21.8      0.90    5.48        144   \n",
      "38  EAU37067114   400      1400.0           25.8      0.90    5.48        144   \n",
      "39  EAU37067114   400      1200.0           31.9      0.90    5.48        144   \n",
      "40  EAU37067114   400      1000.0           41.9      0.90    5.48        144   \n",
      "41  EAU37067114   400       800.0           53.6      0.90    5.48        144   \n",
      "\n",
      "    Core Thick  Core Dia  Poles Torque_division shape_division  \n",
      "0         60.0       130      6           24~42              D  \n",
      "1         60.0       130      6           24~42              D  \n",
      "2         60.0       130      6           24~42              D  \n",
      "3         60.0       130      6           24~42              D  \n",
      "4         60.0       130      6           24~42              D  \n",
      "5         60.0       130      6           24~42              D  \n",
      "6         60.0       130      6           24~42              D  \n",
      "7         60.0       130      6           24~42              D  \n",
      "8         60.0       130      6           24~42              D  \n",
      "9         60.0       130      6           24~42              D  \n",
      "10        60.0       130      6           24~42              D  \n",
      "11        60.0       130      6           24~42              D  \n",
      "12        60.0       130      6           24~42              D  \n",
      "13        60.0       130      6           24~42              D  \n",
      "14        60.0       130      6           24~42              D  \n",
      "15        60.0       130      6           24~42              D  \n",
      "16        60.0       130      6           24~42              D  \n",
      "17        60.0       130      6           24~42              D  \n",
      "18        60.0       130      6           24~42              D  \n",
      "19        60.0       130      6           24~42              D  \n",
      "20        60.0       130      6           24~42              D  \n",
      "21        60.0       130      6           24~42              D  \n",
      "22        60.0       130      6           24~42              D  \n",
      "23        60.0       130      6           24~42              D  \n",
      "24        60.0       130      6           24~42              D  \n",
      "25        60.0       130      6           24~42              D  \n",
      "26        60.0       130      6           24~42              D  \n",
      "27        60.0       130      6           24~42              D  \n",
      "28        60.0       130      6           24~42              D  \n",
      "29        60.0       130      6           24~42              D  \n",
      "30        60.0       130      6           24~42              D  \n",
      "31        60.0       130      6           24~42              D  \n",
      "32        60.0       130      6           24~42              D  \n",
      "33        60.0       130      6           24~42              D  \n",
      "34        60.0       130      6           24~42              D  \n",
      "35        60.0       130      6           24~42              D  \n",
      "36        60.0       130      6           24~42              D  \n",
      "37        60.0       130      6           24~42              D  \n",
      "38        60.0       130      6           24~42              D  \n",
      "39        60.0       130      6           24~42              D  \n",
      "40        60.0       130      6           24~42              D  \n",
      "41        60.0       130      6           24~42              D   \n",
      "\n",
      "    Watt  Speed(RPM)  Torque(kg.cm)  Coil Dia  Coil R  Coil Turn  Core Thick  \\\n",
      "0    500      1600.0           29.9      0.85    7.60        180        60.0   \n",
      "1    500      1400.0           35.3      0.85    7.60        180        60.0   \n",
      "2    500      1300.0           38.8      0.85    7.60        180        60.0   \n",
      "3    500      1200.0           42.9      0.85    7.60        180        60.0   \n",
      "4    500      1100.0           46.9      0.85    7.60        180        60.0   \n",
      "5    500      1000.0           48.0      0.85    7.60        180        60.0   \n",
      "6    500       800.0           50.0      0.85    7.60        180        60.0   \n",
      "7    500       700.0           53.2      0.85    7.60        180        60.0   \n",
      "8    500       600.0           54.5      0.85    7.60        180        60.0   \n",
      "9    350      1600.0           24.7      0.90    5.25        138        60.0   \n",
      "10   350      1400.0           29.2      0.90    5.25        138        60.0   \n",
      "11   350      1300.0           31.9      0.90    5.25        138        60.0   \n",
      "12   350      1200.0           34.7      0.90    5.25        138        60.0   \n",
      "13   350      1100.0           35.7      0.90    5.25        138        60.0   \n",
      "14   350      1000.0           36.7      0.90    5.25        138        60.0   \n",
      "15   350       900.0           38.8      0.90    5.25        138        60.0   \n",
      "16   350       800.0           40.2      0.90    5.25        138        60.0   \n",
      "17   350       700.0           41.0      0.90    5.25        138        60.0   \n",
      "18   350       600.0           41.4      0.90    5.25        138        60.0   \n",
      "19   400      1600.0           25.8      0.85    7.60        180        60.0   \n",
      "20   400      1400.0           30.7      0.85    7.60        180        60.0   \n",
      "21   400      1300.0           33.5      0.85    7.60        180        60.0   \n",
      "22   400      1200.0           37.0      0.85    7.60        180        60.0   \n",
      "23   400      1100.0           41.6      0.85    7.60        180        60.0   \n",
      "24   400      1000.0           44.3      0.85    7.60        180        60.0   \n",
      "25   400       800.0           49.0      0.85    7.60        180        60.0   \n",
      "26   400       600.0           52.7      0.85    7.60        180        60.0   \n",
      "27   350      1600.0           24.7      0.90    5.25        138        60.0   \n",
      "28   350      1400.0           29.2      0.90    5.25        138        60.0   \n",
      "29   350      1300.0           31.9      0.90    5.25        138        60.0   \n",
      "30   350      1200.0           34.7      0.90    5.25        138        60.0   \n",
      "31   350      1100.0           35.7      0.90    5.25        138        60.0   \n",
      "32   350      1000.0           36.7      0.90    5.25        138        60.0   \n",
      "33   350       900.0           38.8      0.90    5.25        138        60.0   \n",
      "34   350       800.0           40.2      0.90    5.25        138        60.0   \n",
      "35   350       700.0           41.0      0.90    5.25        138        60.0   \n",
      "36   350       600.0           41.4      0.90    5.25        138        60.0   \n",
      "37   400      1600.0           21.8      0.90    5.48        144        60.0   \n",
      "38   400      1400.0           25.8      0.90    5.48        144        60.0   \n",
      "39   400      1200.0           31.9      0.90    5.48        144        60.0   \n",
      "40   400      1000.0           41.9      0.90    5.48        144        60.0   \n",
      "41   400       800.0           53.6      0.90    5.48        144        60.0   \n",
      "\n",
      "    Core Dia  Poles  \n",
      "0        130      6  \n",
      "1        130      6  \n",
      "2        130      6  \n",
      "3        130      6  \n",
      "4        130      6  \n",
      "5        130      6  \n",
      "6        130      6  \n",
      "7        130      6  \n",
      "8        130      6  \n",
      "9        130      6  \n",
      "10       130      6  \n",
      "11       130      6  \n",
      "12       130      6  \n",
      "13       130      6  \n",
      "14       130      6  \n",
      "15       130      6  \n",
      "16       130      6  \n",
      "17       130      6  \n",
      "18       130      6  \n",
      "19       130      6  \n",
      "20       130      6  \n",
      "21       130      6  \n",
      "22       130      6  \n",
      "23       130      6  \n",
      "24       130      6  \n",
      "25       130      6  \n",
      "26       130      6  \n",
      "27       130      6  \n",
      "28       130      6  \n",
      "29       130      6  \n",
      "30       130      6  \n",
      "31       130      6  \n",
      "32       130      6  \n",
      "33       130      6  \n",
      "34       130      6  \n",
      "35       130      6  \n",
      "36       130      6  \n",
      "37       130      6  \n",
      "38       130      6  \n",
      "39       130      6  \n",
      "40       130      6  \n",
      "41       130      6  \n"
     ]
    }
   ],
   "source": [
    "import pandas as pd\n",
    "import numpy as np\n",
    "import sklearn\n",
    "import numpy as np\n",
    "import matplotlib.pyplot as plt\n",
    "import pandas as pd\n",
    "import seaborn as sns\n",
    "\n",
    "cv = 10\n",
    "df = pd.read_csv(\"rawdata.csv\")\n",
    "\n",
    "#dataset = 'group_0.csv'  \n",
    "#dataset = 'group_1.csv' \n",
    "dataset = 'group_2.csv'\n",
    "#dataset = 'group_3.csv'  \n",
    "#dataset = 'group_4.csv'   \n",
    "#dataset = 'group_5.csv'\n",
    "#dataset = 'group_6.csv'   \n",
    "#dataset = 'group_7.csv'\n",
    "\n",
    "dataset = pd.read_csv(dataset)\n",
    "dataset.pop(\"Unnamed: 0\")\n",
    "dataset.pop(\"label\")\n",
    "print(dataset)\n",
    "\n",
    "motor_name_lst=dataset[\"motor_name\"]\n",
    "\n",
    "dataset2 = pd.DataFrame()\n",
    "collect_dataset = pd.DataFrame()\n",
    "for i in range(len(motor_name_lst)):\n",
    "    dataset2 = df.loc[df[\"P/No\"]==motor_name_lst[i],:]\n",
    "    #print(dataset2)\n",
    "    collect_dataset = collect_dataset.append(dataset2,ignore_index=True) \n",
    "\n",
    "print(collect_dataset,\"\\n\")\n",
    "collect_dataset.drop(['P/No','Torque_division','shape_division'], axis = 1, inplace = True)\n",
    "\n",
    "new_dataset = collect_dataset\n",
    "print(new_dataset)"
   ]
  },
  {
   "cell_type": "markdown",
   "metadata": {},
   "source": [
    "# step.1"
   ]
  },
  {
   "cell_type": "code",
   "execution_count": 3,
   "metadata": {},
   "outputs": [],
   "source": [
    "correlation_matrix = new_dataset.corr().round(2)\n",
    "mask = np.zeros_like(correlation_matrix, dtype=np.bool)\n",
    "#print(mask,\"\\n\")\n",
    "mask[np.triu_indices_from(mask)] = True\n",
    "#print(mask)"
   ]
  },
  {
   "cell_type": "code",
   "execution_count": 4,
   "metadata": {},
   "outputs": [
    {
     "data": {
      "image/png": "[encoded data removed]",
      "text/plain": [
       "<Figure size 720x720 with 2 Axes>"
      ]
     },
     "metadata": {
      "needs_background": "light"
     },
     "output_type": "display_data"
    }
   ],
   "source": [
    "plt.figure(figsize=(10, 10))\n",
    "sns.heatmap(correlation_matrix, annot=True, mask=mask, cmap='RdYlBu_r', linewidths=.5, cbar_kws={\"shrink\": .5}, vmin=-1, vmax=1)\n",
    "plt.show()"
   ]
  },
  {
   "cell_type": "code",
   "execution_count": 5,
   "metadata": {
    "scrolled": false
   },
   "outputs": [],
   "source": [
    "import matplotlib\n",
    "from matplotlib import font_manager, rc\n",
    "from sklearn.model_selection import train_test_split\n",
    " \n",
    "matplotlib.rcParams['axes.unicode_minus'] = False\n",
    "#X = pd.DataFrame(np.c_[new_dataset['Torque(kg.cm)'], new_dataset['Coil Dia'], new_dataset['Coil R'], new_dataset['Coil Turn'], new_dataset['Core Thick'], new_dataset['Core Dia'], new_dataset['Poles']], columns = ['Torque(kg.cm)','Coil Dia', 'Coil R', 'Coil Turn', 'Core Thick','Core Dia','Poles'])\n",
    "X = pd.DataFrame(np.c_[new_dataset['Torque(kg.cm)'], new_dataset['Coil Dia'], new_dataset['Coil R'], new_dataset['Coil Turn'], new_dataset['Core Thick'], new_dataset['Core Dia'], new_dataset['Poles']], columns = ['Torque(kg.cm)','Coil Dia', 'Coil R', 'Coil Turn', 'Core Thick','Core Dia','Poles'])\n",
    "Y = new_dataset['Speed(RPM)']\n",
    "RANDOM_SEED = 5\n",
    "SPLIT_SIZE = 0.2\n",
    "X_train, X_test, Y_train, Y_test = train_test_split(X, Y, test_size = SPLIT_SIZE, random_state=RANDOM_SEED)\n",
    "\n",
    "# print(X,\"\\n\")\n",
    "# print(Y,\"\\n\")\n",
    "# print(X_train.shape)\n",
    "# print(X_test.shape)\n",
    "# print(Y_train.shape)\n",
    "# print(Y_test.shape)\n",
    "# print(Y_train.values)"
   ]
  },
  {
   "cell_type": "markdown",
   "metadata": {},
   "source": [
    "# step.2"
   ]
  },
  {
   "cell_type": "code",
   "execution_count": 6,
   "metadata": {},
   "outputs": [],
   "source": [
    "from sklearn.linear_model import LinearRegression, Ridge, Lasso\n",
    "from sklearn.metrics import r2_score\n",
    "from sklearn.model_selection import cross_val_score\n",
    "from sklearn.pipeline import Pipeline\n",
    "from sklearn.preprocessing import StandardScaler,MinMaxScaler\n",
    "from sklearn.model_selection import GridSearchCV\n",
    "from sklearn.preprocessing import PolynomialFeatures\n",
    "from sklearn.metrics import mean_squared_error\n",
    "from sklearn.decomposition import PCA"
   ]
  },
  {
   "cell_type": "markdown",
   "metadata": {},
   "source": [
    "#### gridsearch로 fit할 경우"
   ]
  },
  {
   "cell_type": "code",
   "execution_count": 7,
   "metadata": {},
   "outputs": [
    {
     "name": "stdout",
     "output_type": "stream",
     "text": [
      "[{'poly__degree': array([1, 2, 3]), 'fit__fit_intercept': [True, False]}]\n",
      "GridSearchCV(cv=10,\n",
      "             estimator=Pipeline(steps=[('scaler', StandardScaler()),\n",
      "                                       ('poly',\n",
      "                                        PolynomialFeatures(include_bias=False)),\n",
      "                                       ('fit', LinearRegression())]),\n",
      "             param_grid=[{'fit__fit_intercept': [True, False],\n",
      "                          'poly__degree': array([1, 2, 3])}],\n",
      "             scoring='neg_mean_squared_error')\n"
     ]
    }
   ],
   "source": [
    "# pipeline 정의\n",
    "# - 데이터 전처리하는 단일개체 또는 분류의 모든 단계를 포함하는 단일 개체 생성 가능\n",
    "sc = StandardScaler()\n",
    "sc2 = MinMaxScaler()\n",
    "poly_features = PolynomialFeatures(include_bias=False)\n",
    "pipe_linear = Pipeline([\n",
    "                ('scaler', sc),\n",
    "                ('poly', poly_features),\n",
    "                ('fit', LinearRegression())])\n",
    "grid_params_linear = [{\n",
    "        \"poly__degree\" : np.arange(1,4), \n",
    "        \"fit__fit_intercept\" : [True, False],\n",
    "}]\n",
    "# 위에서 정의한 pipe_linear와 grid_params_linear를 gridsearch에 사용\n",
    "GSCV = GridSearchCV(pipe_linear, grid_params_linear, \n",
    "                      scoring = \"neg_mean_squared_error\",\n",
    "                      cv=cv)\n",
    "\n",
    "print(grid_params_linear)\n",
    "print(GSCV)\n"
   ]
  },
  {
   "cell_type": "code",
   "execution_count": 8,
   "metadata": {},
   "outputs": [
    {
     "data": {
      "text/plain": [
       "<AxesSubplot:xlabel='Speed(RPM)'>"
      ]
     },
     "execution_count": 8,
     "metadata": {},
     "output_type": "execute_result"
    },
    {
     "data": {
      "image/png": "[encoded data removed]",
      "text/plain": [
       "<Figure size 432x288 with 1 Axes>"
      ]
     },
     "metadata": {
      "needs_background": "light"
     },
     "output_type": "display_data"
    }
   ],
   "source": [
    "GSCV.fit(X_train, Y_train.values.ravel()) # Y_train은 values값을 1차원배열로 변환\n",
    "prediction=GSCV.predict(X_test)\n",
    "sns.scatterplot(x=Y_test,y=prediction,color=\"red\")"
   ]
  },
  {
   "cell_type": "code",
   "execution_count": 9,
   "metadata": {},
   "outputs": [
    {
     "name": "stdout",
     "output_type": "stream",
     "text": [
      "R2 score is 0.913510511500576\n",
      "Rmse_loss is 72.03727722481906\n",
      "\n",
      "\n"
     ]
    },
    {
     "data": {
      "image/png": "[encoded data removed]",
      "text/plain": [
       "<Figure size 432x288 with 1 Axes>"
      ]
     },
     "metadata": {
      "needs_background": "light"
     },
     "output_type": "display_data"
    }
   ],
   "source": [
    "r2square = r2_score(Y_test,prediction)\n",
    "mse_loss = mean_squared_error(Y_test,prediction)\n",
    "Rmse_loss = np.sqrt(mse_loss)\n",
    "\n",
    "# print('RMSE is {}'.format(rmse))\n",
    "print('R2 score is {}'.format(r2square))\n",
    "print('Rmse_loss is {}'.format(Rmse_loss))\n",
    "print(\"\\n\")\n",
    "fig, ax = plt.subplots()\n",
    "ax.scatter(Y_test, prediction)\n",
    "ax.plot([Y.min(), Y.max()], [Y.min(), Y.max()], 'r--', lw=1)\n",
    "ax.set_xlabel('Actual')\n",
    "ax.set_ylabel(\"Predicted\")\n",
    "plt.show()"
   ]
  },
  {
   "cell_type": "code",
   "execution_count": 10,
   "metadata": {},
   "outputs": [
    {
     "name": "stdout",
     "output_type": "stream",
     "text": [
      "그룹3의 RPM값\n",
      " 28     33.435590\n",
      "23     73.458291\n",
      "25     99.186488\n",
      "3      65.608160\n",
      "24     88.765030\n",
      "6      49.812993\n",
      "4     108.204028\n",
      "36     61.537329\n",
      "29     13.869214\n",
      "Name: Speed(RPM), dtype: float64\n",
      "|실제값-예측값|의 최대값  108.20402821458072\n",
      "|실제값-예측값|의 최소값  13.869214341620136\n",
      "|실제값-예측값|의 평균값  65.98634704786053\n"
     ]
    }
   ],
   "source": [
    "#print(Y_test)\n",
    "#print(prediction)\n",
    "dif = abs(Y_test-prediction)\n",
    "print(\"그룹3의 RPM값\\n\",dif)\n",
    "\n",
    "print(\"|실제값-예측값|의 최대값 \",np.max(dif))\n",
    "print(\"|실제값-예측값|의 최소값 \",np.min(dif))\n",
    "print(\"|실제값-예측값|의 평균값 \",np.mean(dif))\n",
    "\n",
    "#print(Y)\n",
    "#print(np.max(prediction))\n",
    "#print(np.min(prediction))\n",
    "\n",
    "# |실제값-예측값| = (최대값,최소값,평균)"
   ]
  },
  {
   "cell_type": "code",
   "execution_count": null,
   "metadata": {},
   "outputs": [],
   "source": []
  }
 ],
 "metadata": {
  "kernelspec": {
   "display_name": "Python 3",
   "language": "python",
   "name": "python3"
  },
  "language_info": {
   "codemirror_mode": {
    "name": "ipython",
    "version": 3
   },
   "file_extension": ".py",
   "mimetype": "text/x-python",
   "name": "python",
   "nbconvert_exporter": "python",
   "pygments_lexer": "ipython3",
   "version": "3.6.9"
  }
 },
 "nbformat": 4,
 "nbformat_minor": 5
}
