{
 "cells": [
  {
   "cell_type": "markdown",
   "metadata": {},
   "source": [
    "2번문제 : \n",
    "고객 3,500명에 대한 학습용 데이터(y_train.csv, X_train.csv)를 이용하여 성별예측 모형을 만든 \n",
    "후, 이를 평가용 데이터(X_test.csv)에 적용하여 얻은 2,482명 고객의 성별 예측값(남자일 확률)을 \n",
    "다음과 같은 형식의 CSV 파일로 생성하시오.(제출한 모델의 성능은 ROC-AUC 평가지표에 따라 \n",
    "채점)"
   ]
  },
  {
   "cell_type": "markdown",
   "metadata": {},
   "source": [
    "제출형식\n",
    "```bash\n",
    "custid,gender\n",
    " 3500,0.267\n",
    " 3501,0.578\n",
    " 3502,0.88\n",
    "```"
   ]
  },
  {
   "cell_type": "code",
   "execution_count": 34,
   "metadata": {},
   "outputs": [
    {
     "name": "stdout",
     "output_type": "stream",
     "text": [
      "0.6497254656658327\n",
      "0.5728819154851265\n"
     ]
    }
   ],
   "source": [
    "import pandas as pd\n",
    "from sklearn.preprocessing import MinMaxScaler,LabelEncoder\n",
    "from sklearn.linear_model import LogisticRegression\n",
    "from sklearn.model_selection import train_test_split\n",
    "from sklearn.metrics import roc_auc_score\n",
    "from sklearn.ensemble import RandomForestClassifier\n",
    "\n",
    "path = \"type_2/\"\n",
    "x_train_df = pd.read_csv(path+\"X_train.csv\",encoding='euc-kr')\n",
    "x_test_df = pd.read_csv(path+\"X_test.csv\",encoding='euc-kr')\n",
    "y_train_df = pd.read_csv(path+\"y_train.csv\",encoding='euc-kr')\n",
    "\n",
    "## 1. 데이터분석\n",
    "\n",
    "# 주구매상품과 주구매지점은 실수값이 아니라, 상관관계분석 불가하기에 변환필요\n",
    "purchase_encoder = LabelEncoder()\n",
    "train_purchase = x_train_df[\"주구매상품\"]\n",
    "test_purchase = x_test_df[\"주구매상품\"]\n",
    "purchase_encoder.fit(train_purchase)\n",
    "train_purchase = purchase_encoder.transform(train_purchase)\n",
    "test_purchase = purchase_encoder.transform(test_purchase)\n",
    "\n",
    "position_encoder = LabelEncoder()\n",
    "train_position = x_train_df[\"주구매지점\"]\n",
    "test_position = x_test_df[\"주구매지점\"]\n",
    "position_encoder.fit(train_position)\n",
    "train_position = position_encoder.transform(train_position)\n",
    "test_position = position_encoder.transform(test_position)\n",
    "\n",
    "x_train_df[\"주구매상품\"] = train_purchase\n",
    "x_train_df[\"주구매지점\"] = train_position\n",
    "x_test_df[\"주구매상품\"] = test_purchase\n",
    "x_test_df[\"주구매지점\"] = test_position\n",
    "\n",
    "all_df = pd.concat([x_train_df,y_train_df.iloc[:,1:]],axis=1)\n",
    "# all_df.corr()[\"gender\"]\n",
    "\n",
    "\n",
    "## 2. 데이터전처리\n",
    "x_train_df.drop(columns=['환불금액','주구매상품','주구매지점','내점당구매건수','주말방문비율','구매주기'],axis=1,inplace=True)\n",
    "x_test_df.drop(columns=['환불금액','주구매상품','주구매지점','내점당구매건수','주말방문비율','구매주기'],axis=1,inplace=True)\n",
    "\n",
    "x_train_data = x_train_df.iloc[:,1:]\n",
    "x_test_data = x_test_df.iloc[:,1:]\n",
    "y_train_data = y_train_df.iloc[:,1:].values.reshape(-1)\n",
    "\n",
    "scaler = MinMaxScaler()\n",
    "scaler.fit(x_train_data)\n",
    "x_train_data = scaler.transform(x_train_data)\n",
    "x_test_data = scaler.transform(x_test_data)\n",
    "\n",
    "## 3. test model\n",
    "x_train_temp,x_test_temp,y_train_temp,y_test_temp = train_test_split(x_train_data,\n",
    "                                                                     y_train_data,\n",
    "                                                                     train_size=0.8,\n",
    "                                                                     random_state=2)\n",
    "# 로지스틱회귀를 통한 예측성능평가\n",
    "test_model = LogisticRegression()\n",
    "test_model.fit(x_train_temp,y_train_temp)\n",
    "prediction = test_model.predict_proba(x_test_temp)\n",
    "result = prediction[:,1]\n",
    "print(roc_auc_score(y_test_temp,result))\n",
    "\n",
    "# 랜덤포레스트를 통한 예측성능평가\n",
    "test_model = RandomForestClassifier()\n",
    "test_model.fit(x_train_temp,y_train_temp)\n",
    "prediction = test_model.predict_proba(x_test_temp)\n",
    "result = prediction[:,1]\n",
    "print(roc_auc_score(y_test_temp,result))\n",
    "\n",
    "## 4. submission model\n",
    "final_model = LogisticRegression()\n",
    "final_model.fit(x_train_data,y_train_data)\n",
    "prediction = final_model.predict_proba(x_test_data)\n",
    "result = prediction[:,1]\n",
    "\n",
    "cust_id_lst = x_test_df[\"cust_id\"]\n",
    "output_df = pd.DataFrame({\"cust_id\":cust_id_lst,'gender':result})\n",
    "output_df.set_index(\"cust_id\",inplace=True)\n",
    "output_df.to_csv('수험번호.csv',index=False)"
   ]
  },
  {
   "cell_type": "code",
   "execution_count": null,
   "metadata": {},
   "outputs": [],
   "source": []
  }
 ],
 "metadata": {
  "kernelspec": {
   "display_name": "Python 3.8.2 64-bit",
   "language": "python",
   "name": "python3"
  },
  "language_info": {
   "codemirror_mode": {
    "name": "ipython",
    "version": 3
   },
   "file_extension": ".py",
   "mimetype": "text/x-python",
   "name": "python",
   "nbconvert_exporter": "python",
   "pygments_lexer": "ipython3",
   "version": "3.8.2"
  },
  "orig_nbformat": 4,
  "vscode": {
   "interpreter": {
    "hash": "31f2aee4e71d21fbe5cf8b01ff0e069b9275f58929596ceb00d14d90e3e16cd6"
   }
  }
 },
 "nbformat": 4,
 "nbformat_minor": 2
}
