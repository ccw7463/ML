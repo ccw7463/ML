{
 "cells": [
  {
   "cell_type": "markdown",
   "metadata": {},
   "source": [
    "#### 타이타닉 생존자 분류"
   ]
  },
  {
   "cell_type": "code",
   "execution_count": 5,
   "metadata": {},
   "outputs": [],
   "source": [
    "import pandas as pd\n",
    "import numpy as np"
   ]
  },
  {
   "cell_type": "code",
   "execution_count": 2,
   "metadata": {},
   "outputs": [],
   "source": [
    "# 로드\n",
    "df = pd.read_csv(\"https://raw.githubusercontent.com/datasciencedojo/datasets/master/titanic.csv\")\n",
    "\n",
    "# 필요없는 열 제거\n",
    "df.drop(columns=[\"Name\",\"PassengerId\",\"Ticket\",\"Cabin\",\"Embarked\"],inplace=True)\n",
    "\n",
    "# 결측치 제거\n",
    "df.dropna(axis=0, how='any', inplace=True)"
   ]
  },
  {
   "cell_type": "code",
   "execution_count": 7,
   "metadata": {},
   "outputs": [],
   "source": [
    "# 성별데이터 범주화\n",
    "from sklearn.preprocessing import LabelEncoder\n",
    "encoder = LabelEncoder()\n",
    "df[\"Sex\"] = encoder.fit_transform(df[\"Sex\"])"
   ]
  },
  {
   "cell_type": "code",
   "execution_count": 8,
   "metadata": {},
   "outputs": [],
   "source": [
    "# 입력/출력 데이터 정의\n",
    "X_data = df.iloc[:,1:] # (714,6)\n",
    "Y_data = df.iloc[:,0] # (714,)"
   ]
  },
  {
   "cell_type": "code",
   "execution_count": 9,
   "metadata": {},
   "outputs": [],
   "source": [
    "# 데이터분할\n",
    "from sklearn.model_selection import train_test_split\n",
    "\n",
    "train_X,test_X,train_Y,test_Y = train_test_split(X_data,Y_data,train_size=0.8,random_state=20)"
   ]
  },
  {
   "cell_type": "code",
   "execution_count": 10,
   "metadata": {},
   "outputs": [],
   "source": [
    "# 정규화\n",
    "from sklearn.preprocessing import MinMaxScaler\n",
    "scaler = MinMaxScaler()\n",
    "scaler.fit(train_X)\n",
    "train_X = scaler.transform(train_X)\n",
    "test_X = scaler.transform(test_X)"
   ]
  },
  {
   "cell_type": "code",
   "execution_count": 11,
   "metadata": {},
   "outputs": [],
   "source": [
    "# 모델 정의 및 예측\n",
    "from sklearn.ensemble import RandomForestClassifier\n",
    "from sklearn.linear_model import LogisticRegression\n",
    "from sklearn.svm import SVC\n",
    "from sklearn.neighbors import KNeighborsClassifier\n",
    "\n",
    "# 모델 정의 \n",
    "model_1 = RandomForestClassifier()\n",
    "model_2 = LogisticRegression()\n",
    "model_3 = SVC()\n",
    "model_4 = KNeighborsClassifier()\n",
    "\n",
    "# 학습 및 추론\n",
    "model_1.fit(train_X,train_Y)\n",
    "model_2.fit(train_X,train_Y)\n",
    "model_3.fit(train_X,train_Y)\n",
    "model_4.fit(train_X,train_Y)\n",
    "\n",
    "\n",
    "prediction_1 = model_1.predict(test_X)\n",
    "prediction_2 = model_2.predict(test_X)\n",
    "prediction_3 = model_3.predict(test_X)\n",
    "prediction_4 = model_4.predict(test_X)"
   ]
  },
  {
   "cell_type": "code",
   "execution_count": 12,
   "metadata": {},
   "outputs": [],
   "source": [
    "# 성능확인\n",
    "from sklearn.metrics import accuracy_score, classification_report\n",
    "acc_1 = accuracy_score(prediction_1,test_Y)\n",
    "acc_2 = accuracy_score(prediction_2,test_Y)\n",
    "acc_3 = accuracy_score(prediction_3,test_Y)\n",
    "acc_4 = accuracy_score(prediction_4,test_Y)\n",
    "\n",
    "\n",
    "report_1 = classification_report(prediction_1,test_Y)\n",
    "report_2 = classification_report(prediction_2,test_Y)\n",
    "report_3 = classification_report(prediction_3,test_Y)\n",
    "report_4 = classification_report(prediction_4,test_Y)"
   ]
  },
  {
   "cell_type": "code",
   "execution_count": 13,
   "metadata": {},
   "outputs": [
    {
     "name": "stdout",
     "output_type": "stream",
     "text": [
      "0.8251748251748252\n",
      "0.8041958041958042\n",
      "0.7832167832167832\n",
      "0.8181818181818182\n"
     ]
    }
   ],
   "source": [
    "print(acc_1)\n",
    "print(acc_2)\n",
    "print(acc_3)\n",
    "print(acc_4)"
   ]
  },
  {
   "cell_type": "code",
   "execution_count": 14,
   "metadata": {},
   "outputs": [
    {
     "name": "stdout",
     "output_type": "stream",
     "text": [
      "              precision    recall  f1-score   support\n",
      "\n",
      "           0       0.91      0.81      0.86        93\n",
      "           1       0.70      0.86      0.77        50\n",
      "\n",
      "    accuracy                           0.83       143\n",
      "   macro avg       0.81      0.83      0.82       143\n",
      "weighted avg       0.84      0.83      0.83       143\n",
      "\n",
      "              precision    recall  f1-score   support\n",
      "\n",
      "           0       0.89      0.79      0.84        92\n",
      "           1       0.69      0.82      0.75        51\n",
      "\n",
      "    accuracy                           0.80       143\n",
      "   macro avg       0.79      0.81      0.79       143\n",
      "weighted avg       0.82      0.80      0.81       143\n",
      "\n",
      "              precision    recall  f1-score   support\n",
      "\n",
      "           0       0.94      0.79      0.86        98\n",
      "           1       0.66      0.89      0.75        45\n",
      "\n",
      "    accuracy                           0.82       143\n",
      "   macro avg       0.80      0.84      0.81       143\n",
      "weighted avg       0.85      0.82      0.82       143\n",
      "\n"
     ]
    }
   ],
   "source": [
    "print(report_1)\n",
    "print(report_2)\n",
    "# print(report_3)\n",
    "print(report_4)"
   ]
  },
  {
   "cell_type": "code",
   "execution_count": null,
   "metadata": {},
   "outputs": [],
   "source": []
  }
 ],
 "metadata": {
  "kernelspec": {
   "display_name": "Python 3.9.12 ('base')",
   "language": "python",
   "name": "python3"
  },
  "language_info": {
   "codemirror_mode": {
    "name": "ipython",
    "version": 3
   },
   "file_extension": ".py",
   "mimetype": "text/x-python",
   "name": "python",
   "nbconvert_exporter": "python",
   "pygments_lexer": "ipython3",
   "version": "3.9.12"
  },
  "orig_nbformat": 4,
  "vscode": {
   "interpreter": {
    "hash": "bb7db2f660349a3d0bc5f685c6740aca844433bf342c6c5ef76ddfafa345f1fd"
   }
  }
 },
 "nbformat": 4,
 "nbformat_minor": 2
}
