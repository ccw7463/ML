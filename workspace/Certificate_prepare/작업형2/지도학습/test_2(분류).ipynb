{
 "cells": [
  {
   "cell_type": "markdown",
   "metadata": {},
   "source": [
    "### 붓꽃 품종 분류 문제"
   ]
  },
  {
   "cell_type": "code",
   "execution_count": 1,
   "metadata": {},
   "outputs": [],
   "source": [
    "import pandas as pd\n",
    "import numpy as np"
   ]
  },
  {
   "cell_type": "code",
   "execution_count": 2,
   "metadata": {},
   "outputs": [],
   "source": [
    "# 데이터 로드\n",
    "df = pd.read_csv('https://raw.githubusercontent.com/mwaskom/seaborn-data/master/iris.csv')\n",
    "\n",
    "# 입력/출력 데이터 정의\n",
    "X_data = df.iloc[:,0:-1]\n",
    "Y_data = df.iloc[:,-1]"
   ]
  },
  {
   "cell_type": "code",
   "execution_count": 3,
   "metadata": {},
   "outputs": [],
   "source": [
    "# 레이블 데이터 정규화\n",
    "from sklearn.preprocessing import LabelEncoder\n",
    "encoder = LabelEncoder()\n",
    "Y_data = encoder.fit_transform(Y_data)"
   ]
  },
  {
   "cell_type": "code",
   "execution_count": 4,
   "metadata": {},
   "outputs": [],
   "source": [
    "# 데이터 분할\n",
    "from sklearn.model_selection import train_test_split\n",
    "train_X, test_X, train_Y, test_Y = train_test_split(X_data,Y_data,train_size=0.8,random_state=11)"
   ]
  },
  {
   "cell_type": "code",
   "execution_count": 5,
   "metadata": {},
   "outputs": [],
   "source": [
    "# 정규화\n",
    "from sklearn.preprocessing import MinMaxScaler\n",
    "scaler = MinMaxScaler()\n",
    "train_X = scaler.fit_transform(train_X)\n",
    "test_X = scaler.transform(test_X)"
   ]
  },
  {
   "cell_type": "code",
   "execution_count": 23,
   "metadata": {},
   "outputs": [],
   "source": [
    "from sklearn.ensemble import RandomForestClassifier\n",
    "from sklearn.linear_model import LogisticRegression\n",
    "from sklearn.svm import SVC\n",
    "from sklearn.neighbors import KNeighborsClassifier\n",
    "\n",
    "# 모델 정의 \n",
    "model_1 = RandomForestClassifier()\n",
    "model_2 = LogisticRegression()\n",
    "model_3 = SVC()\n",
    "model_4 = KNeighborsClassifier()\n",
    "\n",
    "# 학습 및 추론\n",
    "model_1.fit(train_X,train_Y)\n",
    "model_2.fit(train_X,train_Y)\n",
    "model_3.fit(train_X,train_Y)\n",
    "model_4.fit(train_X,train_Y)\n",
    "\n",
    "\n",
    "prediction_1 = model_1.predict(test_X)\n",
    "prediction_2 = model_2.predict(test_X)\n",
    "prediction_3 = model_3.predict(test_X)\n",
    "prediction_4 = model_4.predict(test_X)"
   ]
  },
  {
   "cell_type": "code",
   "execution_count": 15,
   "metadata": {},
   "outputs": [],
   "source": [
    "# 원래 값으로 변환\n",
    "test_Y_result_1 = encoder.inverse_transform(test_Y)\n",
    "prediction_result_1 = encoder.inverse_transform(prediction_1)\n",
    "\n",
    "test_Y_result_2 = encoder.inverse_transform(test_Y)\n",
    "prediction_result_2 = encoder.inverse_transform(prediction_2)\n",
    "\n",
    "test_Y_result_3 = encoder.inverse_transform(test_Y)\n",
    "prediction_result_3 = encoder.inverse_transform(prediction_3)\n",
    "\n",
    "test_Y_result_4 = encoder.inverse_transform(test_Y)\n",
    "prediction_result_4 = encoder.inverse_transform(prediction_4)"
   ]
  },
  {
   "cell_type": "code",
   "execution_count": 16,
   "metadata": {},
   "outputs": [],
   "source": [
    "# 성능확인\n",
    "from sklearn.metrics import accuracy_score, classification_report\n",
    "acc_1 = accuracy_score(prediction_result_1,test_Y_result_1)\n",
    "acc_2 = accuracy_score(prediction_result_2,test_Y_result_2)\n",
    "acc_3 = accuracy_score(prediction_result_3,test_Y_result_3)\n",
    "acc_4 = accuracy_score(prediction_result_4,test_Y_result_4)\n",
    "\n",
    "\n",
    "report_1 = classification_report(prediction_result_1,test_Y_result_1)\n",
    "report_2 = classification_report(prediction_result_2,test_Y_result_2)\n",
    "report_3 = classification_report(prediction_result_3,test_Y_result_3)\n",
    "report_4 = classification_report(prediction_result_4,test_Y_result_4)"
   ]
  },
  {
   "cell_type": "code",
   "execution_count": 19,
   "metadata": {},
   "outputs": [
    {
     "name": "stdout",
     "output_type": "stream",
     "text": [
      "0.9333333333333333\n",
      "0.8333333333333334\n",
      "0.9333333333333333\n",
      "0.9333333333333333\n"
     ]
    }
   ],
   "source": [
    "print(acc_1)\n",
    "print(acc_2)\n",
    "print(acc_3)\n",
    "print(acc_4)"
   ]
  },
  {
   "cell_type": "code",
   "execution_count": 21,
   "metadata": {},
   "outputs": [
    {
     "name": "stdout",
     "output_type": "stream",
     "text": [
      "              precision    recall  f1-score   support\n",
      "\n",
      "      setosa       1.00      1.00      1.00         9\n",
      "  versicolor       1.00      0.83      0.91        12\n",
      "   virginica       0.82      1.00      0.90         9\n",
      "\n",
      "    accuracy                           0.93        30\n",
      "   macro avg       0.94      0.94      0.94        30\n",
      "weighted avg       0.95      0.93      0.93        30\n",
      "\n",
      "              precision    recall  f1-score   support\n",
      "\n",
      "      setosa       1.00      1.00      1.00         9\n",
      "  versicolor       1.00      0.83      0.91        12\n",
      "   virginica       0.82      1.00      0.90         9\n",
      "\n",
      "    accuracy                           0.93        30\n",
      "   macro avg       0.94      0.94      0.94        30\n",
      "weighted avg       0.95      0.93      0.93        30\n",
      "\n",
      "              precision    recall  f1-score   support\n",
      "\n",
      "      setosa       1.00      1.00      1.00         9\n",
      "  versicolor       1.00      0.83      0.91        12\n",
      "   virginica       0.82      1.00      0.90         9\n",
      "\n",
      "    accuracy                           0.93        30\n",
      "   macro avg       0.94      0.94      0.94        30\n",
      "weighted avg       0.95      0.93      0.93        30\n",
      "\n"
     ]
    }
   ],
   "source": [
    "print(report_1)\n",
    "# print(report_2)\n",
    "print(report_3)\n",
    "print(report_4)"
   ]
  },
  {
   "cell_type": "code",
   "execution_count": null,
   "metadata": {},
   "outputs": [],
   "source": []
  }
 ],
 "metadata": {
  "kernelspec": {
   "display_name": "Python 3.9.12 ('base')",
   "language": "python",
   "name": "python3"
  },
  "language_info": {
   "codemirror_mode": {
    "name": "ipython",
    "version": 3
   },
   "file_extension": ".py",
   "mimetype": "text/x-python",
   "name": "python",
   "nbconvert_exporter": "python",
   "pygments_lexer": "ipython3",
   "version": "3.9.12"
  },
  "orig_nbformat": 4,
  "vscode": {
   "interpreter": {
    "hash": "bb7db2f660349a3d0bc5f685c6740aca844433bf342c6c5ef76ddfafa345f1fd"
   }
  }
 },
 "nbformat": 4,
 "nbformat_minor": 2
}
