{
 "cells": [
  {
   "cell_type": "markdown",
   "metadata": {},
   "source": [
    "1번문제 : qsec 컬럼을 최소최대척도로 변환후 0.5 보다 큰 값을 가지는 레코드 수를 구하라"
   ]
  },
  {
   "cell_type": "markdown",
   "metadata": {},
   "source": [
    "#### 최종코드"
   ]
  },
  {
   "cell_type": "code",
   "execution_count": 2,
   "metadata": {},
   "outputs": [
    {
     "name": "stdout",
     "output_type": "stream",
     "text": [
      "9\n"
     ]
    }
   ],
   "source": [
    "import pandas as pd\n",
    "from sklearn.preprocessing import MinMaxScaler\n",
    "\n",
    "path = \"../dataset/type_1/mtcars.csv\"\n",
    "df = pd.read_csv(path)\n",
    "data = df[\"qsec\"].to_numpy() # numpy로 변환필요 (reshape 위해)\n",
    "data = data.reshape(32,1) # reshape 필요 (scaler에서 사용하기위해)\n",
    "\n",
    "scaler = MinMaxScaler()\n",
    "scaled_data = scaler.fit_transform(data)\n",
    "scaled_data = scaled_data.reshape(-1) # reshape필요 (dataframe으로 만들기위해)\n",
    "\n",
    "new_df = pd.DataFrame({\"value\":scaled_data})\n",
    "print(len(new_df[new_df['value']>0.5]))"
   ]
  },
  {
   "cell_type": "code",
   "execution_count": null,
   "metadata": {},
   "outputs": [],
   "source": []
  }
 ],
 "metadata": {
  "kernelspec": {
   "display_name": "Python 3.9.12 ('base')",
   "language": "python",
   "name": "python3"
  },
  "language_info": {
   "codemirror_mode": {
    "name": "ipython",
    "version": 3
   },
   "file_extension": ".py",
   "mimetype": "text/x-python",
   "name": "python",
   "nbconvert_exporter": "python",
   "pygments_lexer": "ipython3",
   "version": "3.9.12"
  },
  "orig_nbformat": 4,
  "vscode": {
   "interpreter": {
    "hash": "bb7db2f660349a3d0bc5f685c6740aca844433bf342c6c5ef76ddfafa345f1fd"
   }
  }
 },
 "nbformat": 4,
 "nbformat_minor": 2
}
